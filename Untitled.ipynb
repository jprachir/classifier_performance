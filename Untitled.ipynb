{
 "cells": [
  {
   "cell_type": "code",
   "execution_count": 34,
   "id": "dbc8203e",
   "metadata": {
    "ExecuteTime": {
     "end_time": "2022-03-18T17:25:36.833300Z",
     "start_time": "2022-03-18T17:25:36.787546Z"
    }
   },
   "outputs": [],
   "source": [
    "import pandas as pd\n",
    "\n",
    "\n",
    "raw_df = pd.read_csv(\n",
    "    './Q1_dataset/letter_train', sep=\" \", index_col=None, header=None)"
   ]
  },
  {
   "cell_type": "code",
   "execution_count": 52,
   "id": "d4e6d257",
   "metadata": {
    "ExecuteTime": {
     "end_time": "2022-03-18T17:40:27.699023Z",
     "start_time": "2022-03-18T17:40:27.668168Z"
    }
   },
   "outputs": [
    {
     "name": "stdout",
     "output_type": "stream",
     "text": [
      "no null values found\n"
     ]
    },
    {
     "data": {
      "text/html": [
       "<div>\n",
       "<style scoped>\n",
       "    .dataframe tbody tr th:only-of-type {\n",
       "        vertical-align: middle;\n",
       "    }\n",
       "\n",
       "    .dataframe tbody tr th {\n",
       "        vertical-align: top;\n",
       "    }\n",
       "\n",
       "    .dataframe thead th {\n",
       "        text-align: right;\n",
       "    }\n",
       "</style>\n",
       "<table border=\"1\" class=\"dataframe\">\n",
       "  <thead>\n",
       "    <tr style=\"text-align: right;\">\n",
       "      <th></th>\n",
       "      <th>class</th>\n",
       "      <th>feature_0</th>\n",
       "      <th>feature_1</th>\n",
       "      <th>feature_2</th>\n",
       "      <th>feature_3</th>\n",
       "      <th>feature_4</th>\n",
       "      <th>feature_5</th>\n",
       "      <th>feature_6</th>\n",
       "      <th>feature_7</th>\n",
       "      <th>feature_8</th>\n",
       "      <th>feature_9</th>\n",
       "      <th>feature_10</th>\n",
       "      <th>feature_11</th>\n",
       "      <th>feature_12</th>\n",
       "      <th>feature_13</th>\n",
       "      <th>feature_14</th>\n",
       "      <th>feature_15</th>\n",
       "    </tr>\n",
       "  </thead>\n",
       "  <tbody>\n",
       "    <tr>\n",
       "      <th>0</th>\n",
       "      <td>26</td>\n",
       "      <td>1:-0.733333</td>\n",
       "      <td>2:-0.466667</td>\n",
       "      <td>3:-0.466667</td>\n",
       "      <td>4:-0.6</td>\n",
       "      <td>5:-0.733333</td>\n",
       "      <td>6:-0.0666667</td>\n",
       "      <td>7:0.0666667</td>\n",
       "      <td>8:-0.733333</td>\n",
       "      <td>9:0.2</td>\n",
       "      <td>10:0.466667</td>\n",
       "      <td>11:-0.0666667</td>\n",
       "      <td>12:-0.0666667</td>\n",
       "      <td>13:-0.866667</td>\n",
       "      <td>14:0.0666667</td>\n",
       "      <td>15:-0.333333</td>\n",
       "      <td>16:-0.2</td>\n",
       "    </tr>\n",
       "    <tr>\n",
       "      <th>1</th>\n",
       "      <td>16</td>\n",
       "      <td>1:-0.466667</td>\n",
       "      <td>2:-0.0666667</td>\n",
       "      <td>3:-0.333333</td>\n",
       "      <td>4:-0.333333</td>\n",
       "      <td>5:-0.333333</td>\n",
       "      <td>6:-0.333333</td>\n",
       "      <td>7:0.2</td>\n",
       "      <td>8:-0.2</td>\n",
       "      <td>9:-0.466667</td>\n",
       "      <td>10:0.0666667</td>\n",
       "      <td>11:-0.0666667</td>\n",
       "      <td>12:0.2</td>\n",
       "      <td>13:-0.733333</td>\n",
       "      <td>14:0.2</td>\n",
       "      <td>15:-0.0666667</td>\n",
       "      <td>16:0.333333</td>\n",
       "    </tr>\n",
       "    <tr>\n",
       "      <th>2</th>\n",
       "      <td>19</td>\n",
       "      <td>1:-0.0666667</td>\n",
       "      <td>2:0.333333</td>\n",
       "      <td>3:0.0666667</td>\n",
       "      <td>4:-0.0666667</td>\n",
       "      <td>5:-0.466667</td>\n",
       "      <td>6:0.0666667</td>\n",
       "      <td>7:0.0666667</td>\n",
       "      <td>8:-0.333333</td>\n",
       "      <td>9:0.333333</td>\n",
       "      <td>10:0.466667</td>\n",
       "      <td>11:-0.733333</td>\n",
       "      <td>12:0.0666667</td>\n",
       "      <td>13:-0.733333</td>\n",
       "      <td>14:-0.333333</td>\n",
       "      <td>15:-0.333333</td>\n",
       "      <td>16:0.333333</td>\n",
       "    </tr>\n",
       "    <tr>\n",
       "      <th>3</th>\n",
       "      <td>8</td>\n",
       "      <td>1:-0.466667</td>\n",
       "      <td>2:0.2</td>\n",
       "      <td>3:-0.333333</td>\n",
       "      <td>4:-0.0666667</td>\n",
       "      <td>5:-0.466667</td>\n",
       "      <td>6:-0.0666667</td>\n",
       "      <td>7:-0.0666667</td>\n",
       "      <td>8:0.733333</td>\n",
       "      <td>9:-0.866667</td>\n",
       "      <td>10:-0.0666667</td>\n",
       "      <td>11:-0.2</td>\n",
       "      <td>12:0.0666667</td>\n",
       "      <td>13:-0.6</td>\n",
       "      <td>14:0.0666667</td>\n",
       "      <td>15:-1</td>\n",
       "      <td>16:0.0666667</td>\n",
       "    </tr>\n",
       "    <tr>\n",
       "      <th>4</th>\n",
       "      <td>8</td>\n",
       "      <td>1:-0.2</td>\n",
       "      <td>2:-0.0666667</td>\n",
       "      <td>3:0.0666667</td>\n",
       "      <td>4:-0.333333</td>\n",
       "      <td>5:-0.466667</td>\n",
       "      <td>6:-0.0666667</td>\n",
       "      <td>7:-0.2</td>\n",
       "      <td>8:-0.6</td>\n",
       "      <td>9:-0.0666667</td>\n",
       "      <td>10:0.333333</td>\n",
       "      <td>11:-0.0666667</td>\n",
       "      <td>12:0.2</td>\n",
       "      <td>13:-0.6</td>\n",
       "      <td>14:0.0666667</td>\n",
       "      <td>15:-0.6</td>\n",
       "      <td>16:-0.0666667</td>\n",
       "    </tr>\n",
       "  </tbody>\n",
       "</table>\n",
       "</div>"
      ],
      "text/plain": [
       "   class     feature_0     feature_1    feature_2     feature_3    feature_4  \\\n",
       "0     26   1:-0.733333   2:-0.466667  3:-0.466667        4:-0.6  5:-0.733333   \n",
       "1     16   1:-0.466667  2:-0.0666667  3:-0.333333   4:-0.333333  5:-0.333333   \n",
       "2     19  1:-0.0666667    2:0.333333  3:0.0666667  4:-0.0666667  5:-0.466667   \n",
       "3      8   1:-0.466667         2:0.2  3:-0.333333  4:-0.0666667  5:-0.466667   \n",
       "4      8        1:-0.2  2:-0.0666667  3:0.0666667   4:-0.333333  5:-0.466667   \n",
       "\n",
       "      feature_5     feature_6    feature_7     feature_8      feature_9  \\\n",
       "0  6:-0.0666667   7:0.0666667  8:-0.733333         9:0.2    10:0.466667   \n",
       "1   6:-0.333333         7:0.2       8:-0.2   9:-0.466667   10:0.0666667   \n",
       "2   6:0.0666667   7:0.0666667  8:-0.333333    9:0.333333    10:0.466667   \n",
       "3  6:-0.0666667  7:-0.0666667   8:0.733333   9:-0.866667  10:-0.0666667   \n",
       "4  6:-0.0666667        7:-0.2       8:-0.6  9:-0.0666667    10:0.333333   \n",
       "\n",
       "      feature_10     feature_11    feature_12    feature_13     feature_14  \\\n",
       "0  11:-0.0666667  12:-0.0666667  13:-0.866667  14:0.0666667   15:-0.333333   \n",
       "1  11:-0.0666667         12:0.2  13:-0.733333        14:0.2  15:-0.0666667   \n",
       "2   11:-0.733333   12:0.0666667  13:-0.733333  14:-0.333333   15:-0.333333   \n",
       "3        11:-0.2   12:0.0666667       13:-0.6  14:0.0666667          15:-1   \n",
       "4  11:-0.0666667         12:0.2       13:-0.6  14:0.0666667        15:-0.6   \n",
       "\n",
       "      feature_15  \n",
       "0        16:-0.2  \n",
       "1    16:0.333333  \n",
       "2    16:0.333333  \n",
       "3   16:0.0666667  \n",
       "4  16:-0.0666667  "
      ]
     },
     "execution_count": 52,
     "metadata": {},
     "output_type": "execute_result"
    }
   ],
   "source": [
    "# preprocessing\n",
    "# drop last column which comes from plain text file\n",
    "df = raw_df.iloc[:,:-1]\n",
    "\n",
    "# # give names to the columns\n",
    "col_names = col_names = ['class']+ ['feature_'+str(i) for i in range(16)]\n",
    "df.columns = col_names\n",
    "\n",
    "# any null values\n",
    "print('there are null values' if df.isnull().sum().sum()!=0 else 'no null values found')\n",
    "\n",
    "#everything is string so remove 1:_ before processing\n",
    "df.head()"
   ]
  },
  {
   "cell_type": "code",
   "execution_count": 79,
   "id": "5544a33a",
   "metadata": {
    "ExecuteTime": {
     "end_time": "2022-03-18T18:02:53.427632Z",
     "start_time": "2022-03-18T18:02:53.422797Z"
    }
   },
   "outputs": [
    {
     "data": {
      "text/plain": [
       "'-0.733333'"
      ]
     },
     "execution_count": 79,
     "metadata": {},
     "output_type": "execute_result"
    }
   ],
   "source": [
    "# zeroth cell\n",
    "df.iloc[0,1].split(':')[1]"
   ]
  },
  {
   "cell_type": "code",
   "execution_count": 59,
   "id": "4c3336ab",
   "metadata": {
    "ExecuteTime": {
     "end_time": "2022-03-18T17:45:48.590174Z",
     "start_time": "2022-03-18T17:45:48.582545Z"
    }
   },
   "outputs": [
    {
     "data": {
      "text/plain": [
       "count           15000\n",
       "unique             16\n",
       "top       1:-0.466667\n",
       "freq             3307\n",
       "Name: feature_0, dtype: object"
      ]
     },
     "execution_count": 59,
     "metadata": {},
     "output_type": "execute_result"
    }
   ],
   "source": [
    ",df['feature_0'].describe()"
   ]
  },
  {
   "cell_type": "code",
   "execution_count": null,
   "id": "cd4301fd",
   "metadata": {},
   "outputs": [],
   "source": []
  }
 ],
 "metadata": {
  "kernelspec": {
   "display_name": "Python 3 (ipykernel)",
   "language": "python",
   "name": "python3"
  },
  "language_info": {
   "codemirror_mode": {
    "name": "ipython",
    "version": 3
   },
   "file_extension": ".py",
   "mimetype": "text/x-python",
   "name": "python",
   "nbconvert_exporter": "python",
   "pygments_lexer": "ipython3",
   "version": "3.7.11"
  },
  "toc": {
   "base_numbering": 1,
   "nav_menu": {},
   "number_sections": true,
   "sideBar": true,
   "skip_h1_title": false,
   "title_cell": "Table of Contents",
   "title_sidebar": "Contents",
   "toc_cell": false,
   "toc_position": {},
   "toc_section_display": true,
   "toc_window_display": false
  },
  "varInspector": {
   "cols": {
    "lenName": 16,
    "lenType": 16,
    "lenVar": 40
   },
   "kernels_config": {
    "python": {
     "delete_cmd_postfix": "",
     "delete_cmd_prefix": "del ",
     "library": "var_list.py",
     "varRefreshCmd": "print(var_dic_list())"
    },
    "r": {
     "delete_cmd_postfix": ") ",
     "delete_cmd_prefix": "rm(",
     "library": "var_list.r",
     "varRefreshCmd": "cat(var_dic_list()) "
    }
   },
   "types_to_exclude": [
    "module",
    "function",
    "builtin_function_or_method",
    "instance",
    "_Feature"
   ],
   "window_display": false
  }
 },
 "nbformat": 4,
 "nbformat_minor": 5
}
