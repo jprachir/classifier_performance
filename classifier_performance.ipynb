{
 "cells": [
  {
   "cell_type": "markdown",
   "id": "917e058e",
   "metadata": {},
   "source": [
    "Following are the steps with classifiers:\n",
    "\n",
    "* decision tree with gini measure : max_depth = [5,10,15,20,25]\n",
    "* decision tree with entropy measure: max_depth = [5,10,15,20,25] \n",
    "* baseline KNN with neighbors = 5 \n",
    "* baseline RF with n_estimators (trees) = 100\n",
    "\n",
    "1. Preparing data for training\n",
    "1. training a classifier\n",
    "2. testing a classifier  \n",
    "3. Evaluating a classifier\n",
    "\n"
   ]
  },
  {
   "cell_type": "markdown",
   "id": "5495a512",
   "metadata": {},
   "source": [
    "# Setup"
   ]
  },
  {
   "cell_type": "code",
   "execution_count": 3,
   "id": "dbc8203e",
   "metadata": {
    "ExecuteTime": {
     "end_time": "2022-03-18T17:25:36.833300Z",
     "start_time": "2022-03-18T17:25:36.787546Z"
    }
   },
   "outputs": [],
   "source": [
    "import numpy as np\n",
    "import pandas as pd\n",
    "# from sklearn.model_selection import train_test_split (not required, already splitted .33/0.66)\n",
    "from sklearn.tree import DecisionTreeClassifier\n",
    "from sklearn.model_selection import GridSearchCV\n",
    "from sklearn.neighbors import KNeighborsClassifier\n",
    "from sklearn.metrics import accuracy_score\n",
    "from sklearn.metrics import confusion_matrix\n",
    "import seaborn as sns\n",
    "import matplotlib.pyplot as plt\n",
    "import time\n",
    "\n",
    "%reload_ext autoreload\n",
    "from preprocessing import *"
   ]
  },
  {
   "cell_type": "code",
   "execution_count": null,
   "id": "bdcd1353",
   "metadata": {},
   "outputs": [],
   "source": [
    "\n",
    "# import wandb\n",
    "# wandb.init(project=\"visualize-sklearn_decision_tree\")\n"
   ]
  },
  {
   "cell_type": "markdown",
   "id": "c0b0afdb",
   "metadata": {},
   "source": [
    "# Global variables"
   ]
  },
  {
   "cell_type": "code",
   "execution_count": 4,
   "id": "84c91dd9",
   "metadata": {},
   "outputs": [],
   "source": [
    "# global dictionary to save accuracies for every model\n",
    "acc_dict ={}\n",
    "# global labels/class\n",
    "labels = np.arange(1,27)\n",
    "training_time = {}\n"
   ]
  },
  {
   "cell_type": "markdown",
   "id": "6fefdbac",
   "metadata": {},
   "source": [
    "# Convert text file to pandas dataframe"
   ]
  },
  {
   "cell_type": "code",
   "execution_count": 5,
   "id": "0c991656",
   "metadata": {},
   "outputs": [],
   "source": [
    "# reading a text file to csv file\n",
    "raw_train_df = pd.read_csv(\n",
    "    './Q1_dataset/letter_train', sep=\" \", index_col=None, header=None)\n",
    "raw_test__df = pd.read_csv(\n",
    "    './Q1_dataset/letter_test', sep=\" \", index_col=None, header=None)"
   ]
  },
  {
   "cell_type": "markdown",
   "id": "1bee25fa",
   "metadata": {},
   "source": [
    "# Preprocessing raw data\n",
    "- this may take couple of minutes (around 3-6 mins) to preprocess the data"
   ]
  },
  {
   "cell_type": "code",
   "execution_count": 6,
   "id": "d4e6d257",
   "metadata": {
    "ExecuteTime": {
     "end_time": "2022-03-18T17:40:27.699023Z",
     "start_time": "2022-03-18T17:40:27.668168Z"
    }
   },
   "outputs": [
    {
     "name": "stdout",
     "output_type": "stream",
     "text": [
      "Int64Index([0, 1, 2, 3, 4, 5, 6, 7, 8, 9, 10, 11, 12, 13, 14, 15, 16, 17], dtype='int64')\n",
      "Int64Index([0, 1, 2, 3, 4, 5, 6, 7, 8, 9, 10, 11, 12, 13, 14, 15, 16, 17], dtype='int64')\n"
     ]
    }
   ],
   "source": [
    "# preprocessing train data\n",
    "train_df = preprocessing(raw_train_df)\n",
    "train_df = extract_float(train_df)\n",
    "train_df = change_objCol_to_float(train_df)\n",
    "\n",
    "# preprocessing test data\n",
    "test_df = preprocessing(raw_test__df)\n",
    "test_df = extract_float(test_df)\n",
    "test_df = change_objCol_to_float(test_df)\n",
    "# plot_unique_values(test_df)"
   ]
  },
  {
   "cell_type": "code",
   "execution_count": 8,
   "id": "0ecb8588",
   "metadata": {},
   "outputs": [
    {
     "name": "stdout",
     "output_type": "stream",
     "text": [
      "no null values found\n",
      "no null values found\n"
     ]
    }
   ],
   "source": [
    "# check if any missing values for both train and test\n",
    "any_missing_values(train_df)\n",
    "any_missing_values(test_df)"
   ]
  },
  {
   "cell_type": "code",
   "execution_count": 9,
   "id": "845a4152",
   "metadata": {},
   "outputs": [
    {
     "name": "stdout",
     "output_type": "stream",
     "text": [
      "<class 'pandas.core.frame.DataFrame'>\n",
      "RangeIndex: 15000 entries, 0 to 14999\n",
      "Data columns (total 17 columns):\n",
      " #   Column      Non-Null Count  Dtype  \n",
      "---  ------      --------------  -----  \n",
      " 0   class       15000 non-null  int64  \n",
      " 1   feature_0   15000 non-null  float64\n",
      " 2   feature_1   15000 non-null  float64\n",
      " 3   feature_2   15000 non-null  float64\n",
      " 4   feature_3   15000 non-null  float64\n",
      " 5   feature_4   15000 non-null  float64\n",
      " 6   feature_5   15000 non-null  float64\n",
      " 7   feature_6   15000 non-null  float64\n",
      " 8   feature_7   15000 non-null  float64\n",
      " 9   feature_8   15000 non-null  float64\n",
      " 10  feature_9   15000 non-null  float64\n",
      " 11  feature_10  15000 non-null  float64\n",
      " 12  feature_11  15000 non-null  float64\n",
      " 13  feature_12  15000 non-null  float64\n",
      " 14  feature_13  15000 non-null  float64\n",
      " 15  feature_14  15000 non-null  float64\n",
      " 16  feature_15  15000 non-null  float64\n",
      "dtypes: float64(16), int64(1)\n",
      "memory usage: 1.9 MB\n"
     ]
    }
   ],
   "source": [
    "# correct format of data to process further\n",
    "train_df.info()"
   ]
  },
  {
   "cell_type": "markdown",
   "id": "8a18b7f7",
   "metadata": {},
   "source": [
    "# Proceed to train "
   ]
  },
  {
   "cell_type": "code",
   "execution_count": 10,
   "id": "ea9147e8",
   "metadata": {},
   "outputs": [],
   "source": [
    "# since the data is already splitted in 0.33/0.66 split\n",
    "X_train = train_df.iloc[:,1:]\n",
    "y_train = train_df.iloc[:,0]\n",
    "\n",
    "X_test = test_df.iloc[:,1:]\n",
    "y_test = test_df.iloc[:,0]"
   ]
  },
  {
   "cell_type": "code",
   "execution_count": 11,
   "id": "1a95c081",
   "metadata": {},
   "outputs": [
    {
     "data": {
      "text/plain": [
       "((15000, 16), (5000, 16))"
      ]
     },
     "execution_count": 11,
     "metadata": {},
     "output_type": "execute_result"
    }
   ],
   "source": [
    "# shape of both data\n",
    "X_train.shape, X_test.shape"
   ]
  },
  {
   "cell_type": "markdown",
   "id": "c3cbcca2",
   "metadata": {},
   "source": [
    "# Plain classifier\n",
    "1. Decision tree with criteria gini measure"
   ]
  },
  {
   "cell_type": "code",
   "execution_count": 12,
   "id": "389d8f96",
   "metadata": {},
   "outputs": [
    {
     "name": "stdout",
     "output_type": "stream",
     "text": [
      "Model accuracy score with criterion gini index: 0.8746\n"
     ]
    }
   ],
   "source": [
    "# instantiate the decisionclassifier class with gini index\n",
    "clf_gini = DecisionTreeClassifier(criterion = 'gini', max_depth = 25, random_state=0)\n",
    "# fit the model\n",
    "clf_gini.fit(X_train, y_train)\n",
    "# predict the test set results with criterion gini index \n",
    "y_pred_gini = clf_gini.predict(X_test)\n",
    "# check the performance of a classifier with gini index criterion\n",
    "print('Model accuracy score with criterion gini index: {0:0.4f}'.format(accuracy_score(y_test,y_pred_gini)))"
   ]
  },
  {
   "cell_type": "markdown",
   "id": "b9f863c4",
   "metadata": {},
   "source": [
    "# classifier for different max_Depths"
   ]
  },
  {
   "cell_type": "code",
   "execution_count": 13,
   "id": "d9ef5bd8",
   "metadata": {},
   "outputs": [],
   "source": [
    "max_depth_param = [5,10,15,20,25]\n",
    "training_time_in_seconds = []\n",
    "train_accuracy = []\n",
    "test_accuracy = []\n",
    "\n",
    "for max_depth in max_depth_param:\n",
    "    # model\n",
    "    clf_gini = DecisionTreeClassifier(criterion = 'gini', max_depth = max_depth, random_state=0)\n",
    "    # train the model\n",
    "    start = time.time()\n",
    "    clf_gini.fit(X_train,y_train)\n",
    "    end = time.time()\n",
    "    training_time_in_seconds.append(end-start)\n",
    "    # predict \n",
    "    y_pred_train_gini = clf_gini.predict(X_train)\n",
    "    y_pred_test_gini = clf_gini.predict(X_test)\n",
    "    # estimate class probabilities\n",
    "    y_probas_gini = clf_gini.predict_proba(X_test)\n",
    "    importances = clf_gini.feature_importances_\n",
    "    indices = np.argsort(importances)[::-1]\n",
    "    # accuracy on train and test accuracy\n",
    "    # print(\"for max depth:{}  train_accuracy: {}  test_accuracy: {}\".format(max_depth,accuracy_score(y_train, y_pred_train_gini,accuracy_score(y_test, y_pred_test_gini)) ))\n",
    "    \n",
    "    train_accuracy.append(accuracy_score(y_train, y_pred_train_gini))\n",
    "    test_accuracy.append(accuracy_score(y_test,y_pred_test_gini))\n",
    "\n",
    "    \n",
    "    "
   ]
  },
  {
   "cell_type": "code",
   "execution_count": 14,
   "id": "741c24a3",
   "metadata": {},
   "outputs": [
    {
     "name": "stdout",
     "output_type": "stream",
     "text": [
      "average accuracy for dt with gini is 0.73124\n"
     ]
    }
   ],
   "source": [
    "avg_acc_for_dt = sum(test_accuracy) / len(test_accuracy)\n",
    "print('average accuracy for dt with gini is {}'.format(avg_acc_for_dt))"
   ]
  },
  {
   "cell_type": "code",
   "execution_count": 15,
   "id": "e06e1041",
   "metadata": {},
   "outputs": [],
   "source": [
    "# append to global acc_dict to visualize later\n",
    "acc_dict['DT_gini'] = max(test_accuracy)\n",
    "training_time['DT_gini'] = max(training_time_in_seconds)"
   ]
  },
  {
   "cell_type": "code",
   "execution_count": null,
   "id": "77ad88e7",
   "metadata": {},
   "outputs": [],
   "source": [
    "# wandb.sklearn.plot_classifier(clf_gini, \n",
    "#                               X_train, X_test, \n",
    "#                               y_train.to_numpy(), y_test, \n",
    "#                               y_pred_test_gini, y_probas_gini,\n",
    "#                               labels=np.arange(27),\n",
    "#                               model_name = 'decision_tree',\n",
    "#                               feature_names=None)"
   ]
  },
  {
   "cell_type": "code",
   "execution_count": 16,
   "id": "8e49c14c",
   "metadata": {},
   "outputs": [],
   "source": [
    "max_depth_param = [5,10,15,20,25]\n",
    "e_training_time_in_seconds = []\n",
    "e_train_accuracy = []\n",
    "e_test_accuracy = []\n",
    "\n",
    "for max_depth in max_depth_param:\n",
    "    # model\n",
    "    clf_entropy = DecisionTreeClassifier(criterion = 'entropy', max_depth = max_depth, random_state=0)\n",
    "    # train the model\n",
    "    e_start = time.time()\n",
    "    clf_entropy.fit(X_train,y_train)\n",
    "    e_end = time.time()\n",
    "    e_training_time_in_seconds.append(e_end-e_start)\n",
    "    # predict \n",
    "    y_pred_train_entropy = clf_entropy.predict(X_train)\n",
    "    y_pred_test_entropy = clf_entropy.predict(X_test)\n",
    "    # estimate class probabilities\n",
    "    y_probas_entropy = clf_entropy.predict_proba(X_test)\n",
    "    e_importances = clf_entropy.feature_importances_\n",
    "    indices = np.argsort(e_importances)[::-1]\n",
    "    # accuracy on train and test accuracy\n",
    "    # print(\"for max depth:{}  train_accuracy: {}  test_accuracy: {}\".format(max_depth,accuracy_score(y_train, y_pred_train_gini,accuracy_score(y_test, y_pred_test_gini)) ))\n",
    "    \n",
    "    e_train_accuracy.append(accuracy_score(y_train, y_pred_train_entropy))\n",
    "    e_test_accuracy.append(accuracy_score(y_test,y_pred_test_entropy))\n",
    "\n",
    "  \n",
    "# append to global acc_dict to visualize later\n",
    "acc_dict['DT_entropy'] = max(e_test_accuracy)\n",
    "training_time['DT_entropy'] = max(e_training_time_in_seconds)  \n"
   ]
  },
  {
   "cell_type": "code",
   "execution_count": 17,
   "id": "dd00abbb",
   "metadata": {},
   "outputs": [
    {
     "name": "stdout",
     "output_type": "stream",
     "text": [
      "average accuracy for dt with entropy is 0.73124\n"
     ]
    }
   ],
   "source": [
    "avg_acc_for_dt_entropy = sum(e_test_accuracy) / len(e_test_accuracy)\n",
    "print('average accuracy for dt with entropy is {}'.format(avg_acc_for_dt))"
   ]
  },
  {
   "cell_type": "code",
   "execution_count": null,
   "id": "e117f5ba",
   "metadata": {},
   "outputs": [],
   "source": [
    "\n",
    "# wandb.init(project=\"visualize-sklearn_entropy_dt\")\n",
    "\n",
    "# wandb.sklearn.plot_classifier(clf_entropy, \n",
    "#                               X_train, X_test, \n",
    "#                               y_train.to_numpy(), y_test, \n",
    "#                               y_pred_test_entropy, y_probas_entropy,\n",
    "#                               labels=np.arange(27),\n",
    "#                               model_name = 'decision_tree_Entropy',\n",
    "#                               feature_names=None)\n"
   ]
  },
  {
   "cell_type": "code",
   "execution_count": 19,
   "id": "fba74793",
   "metadata": {},
   "outputs": [
    {
     "name": "stdout",
     "output_type": "stream",
     "text": [
      "              precision    recall  f1-score   support\n",
      "\n",
      "           1       0.94      0.94      0.94       195\n",
      "           2       0.79      0.80      0.80       199\n",
      "           3       0.90      0.85      0.87       182\n",
      "           4       0.85      0.90      0.87       207\n",
      "           5       0.85      0.89      0.87       203\n",
      "           6       0.88      0.83      0.85       210\n",
      "           7       0.86      0.82      0.84       226\n",
      "           8       0.79      0.81      0.80       196\n",
      "           9       0.92      0.92      0.92       188\n",
      "          10       0.87      0.88      0.88       172\n",
      "          11       0.81      0.82      0.81       167\n",
      "          12       0.91      0.93      0.92       201\n",
      "          13       0.90      0.92      0.91       185\n",
      "          14       0.92      0.89      0.90       178\n",
      "          15       0.84      0.84      0.84       179\n",
      "          16       0.89      0.90      0.90       206\n",
      "          17       0.87      0.84      0.85       189\n",
      "          18       0.79      0.77      0.78       190\n",
      "          19       0.81      0.86      0.84       185\n",
      "          20       0.89      0.90      0.90       197\n",
      "          21       0.93      0.91      0.92       207\n",
      "          22       0.89      0.93      0.91       183\n",
      "          23       0.94      0.91      0.92       176\n",
      "          24       0.88      0.87      0.87       204\n",
      "          25       0.91      0.90      0.91       184\n",
      "          26       0.96      0.91      0.93       191\n",
      "\n",
      "    accuracy                           0.87      5000\n",
      "   macro avg       0.88      0.87      0.87      5000\n",
      "weighted avg       0.88      0.87      0.87      5000\n",
      "\n"
     ]
    }
   ],
   "source": [
    "from sklearn.metrics import classification_report\n",
    "\n",
    "print(classification_report(y_test, y_pred_test_gini))"
   ]
  },
  {
   "cell_type": "code",
   "execution_count": 20,
   "id": "c1857301",
   "metadata": {},
   "outputs": [
    {
     "data": {
      "image/png": "[encoded data removed]",
      "text/plain": [
       "<Figure size 432x288 with 1 Axes>"
      ]
     },
     "metadata": {
      "needs_background": "light"
     },
     "output_type": "display_data"
    }
   ],
   "source": [
    "plt.plot(range(5,30,5),training_time_in_seconds)\n",
    "plt.xlabel('max depths') \n",
    "plt.ylabel('time in (float) seconds') \n",
    "plt.title('Training time! for decision tree with gini')\n",
    "plt.xticks(range(5,30,5))\n",
    "# plt.show()\n",
    "plt.savefig('trainingTime_for_decisionTree',bbox_inches='tight',dpi=150)"
   ]
  },
  {
   "cell_type": "code",
   "execution_count": 21,
   "id": "7fffa04d",
   "metadata": {},
   "outputs": [
    {
     "data": {
      "image/png": "[encoded data removed]",
      "text/plain": [
       "<Figure size 432x288 with 1 Axes>"
      ]
     },
     "metadata": {
      "needs_background": "light"
     },
     "output_type": "display_data"
    }
   ],
   "source": [
    "plt.plot(range(5,30,5),e_training_time_in_seconds)\n",
    "plt.xlabel('max depths') \n",
    "plt.ylabel('time in (float) seconds') \n",
    "plt.title('Training time! for dt with entropy')\n",
    "plt.xticks(range(5,30,5))\n",
    "# plt.show()\n",
    "plt.savefig('e_trainingTime_for_decisionTree',bbox_inches='tight',dpi=150)"
   ]
  },
  {
   "cell_type": "code",
   "execution_count": 22,
   "id": "12a8f74a",
   "metadata": {},
   "outputs": [
    {
     "data": {
      "image/png": "[encoded data removed]",
      "text/plain": [
       "<Figure size 432x288 with 1 Axes>"
      ]
     },
     "metadata": {
      "needs_background": "light"
     },
     "output_type": "display_data"
    }
   ],
   "source": [
    "plt.plot(train_accuracy,color='magenta',label='train_acc')\n",
    "plt.plot(test_accuracy, label='test_acc')\n",
    "# plt.xticks(range(5,30,5))\n",
    "# plt.xlabel('max_depth')\n",
    "plt.ylabel('accuracy')\n",
    "plt.title('train_test accuracy viz')\n",
    "plt.legend(loc=\"upper left\")\n",
    "plt.show()\n",
    "# plt.savefig('accuracy VS max_depth',bbox_inches='tight',dpi=150)"
   ]
  },
  {
   "cell_type": "code",
   "execution_count": 23,
   "id": "cd82c480",
   "metadata": {},
   "outputs": [
    {
     "data": {
      "image/png": "[encoded data removed]",
      "text/plain": [
       "<Figure size 432x288 with 1 Axes>"
      ]
     },
     "metadata": {
      "needs_background": "light"
     },
     "output_type": "display_data"
    }
   ],
   "source": [
    "plt.plot(e_train_accuracy,color='magenta',label='train_acc')\n",
    "plt.plot(e_test_accuracy, label='test_acc')\n",
    "# plt.xticks(range(5,30,5))\n",
    "# plt.xlabel('max_depth')\n",
    "plt.ylabel('accuracy')\n",
    "plt.title('train_test accuracy viz')\n",
    "plt.legend(loc=\"upper left\")\n",
    "plt.show()\n",
    "# plt.savefig('entropy accuracy VS max_depth',bbox_inches='tight',dpi=150)"
   ]
  },
  {
   "cell_type": "markdown",
   "id": "f0be0489",
   "metadata": {},
   "source": [
    "# knn classifier\n",
    "* It's a simple supervised classification algorithm we can use to assign a class to new data point. For a new data point, this algorithm looks around for n_neighbors to classify it."
   ]
  },
  {
   "cell_type": "code",
   "execution_count": null,
   "id": "adea1326",
   "metadata": {},
   "outputs": [],
   "source": [
    "# wandb.init(project=\"visualize-sklearn_KNN\")"
   ]
  },
  {
   "cell_type": "code",
   "execution_count": 24,
   "id": "88f2fe90",
   "metadata": {},
   "outputs": [
    {
     "name": "stdout",
     "output_type": "stream",
     "text": [
      "training_time in seconds 0.007025480270385742\n",
      "accuracy is 0.9518\n"
     ]
    }
   ],
   "source": [
    "from sklearn.neighbors import KNeighborsClassifier\n",
    "# baseline knn\n",
    "clf_knn = KNeighborsClassifier()\n",
    "knn_start = time.time()\n",
    "clf_knn.fit(X_train, y_train)\n",
    "knn_end = time.time()\n",
    "print('training_time in seconds', knn_end - knn_start)\n",
    "knn_y_test_pred = clf_knn.predict(X_test)\n",
    "knn_y_probas = clf_knn.predict_proba(X_test)\n",
    "print('accuracy is {}'.format(accuracy_score(y_test,knn_y_test_pred)))\n",
    " \n",
    "acc_dict['knn'] = accuracy_score(y_test,knn_y_test_pred)\n",
    "training_time['knn'] = knn_end - knn_start"
   ]
  },
  {
   "cell_type": "code",
   "execution_count": null,
   "id": "3957ec0f",
   "metadata": {},
   "outputs": [],
   "source": [
    "# wandb.sklearn.plot_classifier(clf_knn, \n",
    "#                               X_train, X_test, \n",
    "#                               y_train.to_numpy(), y_test, \n",
    "#                               knn_y_test_pred, knn_y_probas,\n",
    "#                               labels=np.arange(27),\n",
    "#                               model_name = 'KNN',\n",
    "#                               feature_names=None)"
   ]
  },
  {
   "cell_type": "code",
   "execution_count": 26,
   "id": "76d73260",
   "metadata": {},
   "outputs": [
    {
     "name": "stderr",
     "output_type": "stream",
     "text": [
      "C:\\Users\\jprac\\anaconda3\\lib\\site-packages\\sklearn\\model_selection\\_validation.py:610: FitFailedWarning: Estimator fit failed. The score on this train-test partition for these parameters will be set to nan. Details: \n",
      "Traceback (most recent call last):\n",
      "  File \"C:\\Users\\jprac\\anaconda3\\lib\\site-packages\\sklearn\\model_selection\\_validation.py\", line 593, in _fit_and_score\n",
      "    estimator.fit(X_train, y_train, **fit_params)\n",
      "  File \"C:\\Users\\jprac\\anaconda3\\lib\\site-packages\\sklearn\\neighbors\\_classification.py\", line 179, in fit\n",
      "    return self._fit(X, y)\n",
      "  File \"C:\\Users\\jprac\\anaconda3\\lib\\site-packages\\sklearn\\neighbors\\_base.py\", line 399, in _fit\n",
      "    self._check_algorithm_metric()\n",
      "  File \"C:\\Users\\jprac\\anaconda3\\lib\\site-packages\\sklearn\\neighbors\\_base.py\", line 342, in _check_algorithm_metric\n",
      "    raise ValueError(\"Metric '%s' not valid. Use \"\n",
      "ValueError: Metric 'euclodean' not valid. Use sorted(sklearn.neighbors.VALID_METRICS['brute']) to get valid options. Metric can also be a callable function.\n",
      "\n",
      "  warnings.warn(\"Estimator fit failed. The score on this train-test\"\n",
      "C:\\Users\\jprac\\anaconda3\\lib\\site-packages\\sklearn\\model_selection\\_validation.py:610: FitFailedWarning: Estimator fit failed. The score on this train-test partition for these parameters will be set to nan. Details: \n",
      "Traceback (most recent call last):\n",
      "  File \"C:\\Users\\jprac\\anaconda3\\lib\\site-packages\\sklearn\\model_selection\\_validation.py\", line 593, in _fit_and_score\n",
      "    estimator.fit(X_train, y_train, **fit_params)\n",
      "  File \"C:\\Users\\jprac\\anaconda3\\lib\\site-packages\\sklearn\\neighbors\\_classification.py\", line 179, in fit\n",
      "    return self._fit(X, y)\n",
      "  File \"C:\\Users\\jprac\\anaconda3\\lib\\site-packages\\sklearn\\neighbors\\_base.py\", line 399, in _fit\n",
      "    self._check_algorithm_metric()\n",
      "  File \"C:\\Users\\jprac\\anaconda3\\lib\\site-packages\\sklearn\\neighbors\\_base.py\", line 342, in _check_algorithm_metric\n",
      "    raise ValueError(\"Metric '%s' not valid. Use \"\n",
      "ValueError: Metric 'euclodean' not valid. Use sorted(sklearn.neighbors.VALID_METRICS['brute']) to get valid options. Metric can also be a callable function.\n",
      "\n",
      "  warnings.warn(\"Estimator fit failed. The score on this train-test\"\n",
      "C:\\Users\\jprac\\anaconda3\\lib\\site-packages\\sklearn\\model_selection\\_validation.py:610: FitFailedWarning: Estimator fit failed. The score on this train-test partition for these parameters will be set to nan. Details: \n",
      "Traceback (most recent call last):\n",
      "  File \"C:\\Users\\jprac\\anaconda3\\lib\\site-packages\\sklearn\\model_selection\\_validation.py\", line 593, in _fit_and_score\n",
      "    estimator.fit(X_train, y_train, **fit_params)\n",
      "  File \"C:\\Users\\jprac\\anaconda3\\lib\\site-packages\\sklearn\\neighbors\\_classification.py\", line 179, in fit\n",
      "    return self._fit(X, y)\n",
      "  File \"C:\\Users\\jprac\\anaconda3\\lib\\site-packages\\sklearn\\neighbors\\_base.py\", line 399, in _fit\n",
      "    self._check_algorithm_metric()\n",
      "  File \"C:\\Users\\jprac\\anaconda3\\lib\\site-packages\\sklearn\\neighbors\\_base.py\", line 342, in _check_algorithm_metric\n",
      "    raise ValueError(\"Metric '%s' not valid. Use \"\n",
      "ValueError: Metric 'euclodean' not valid. Use sorted(sklearn.neighbors.VALID_METRICS['brute']) to get valid options. Metric can also be a callable function.\n",
      "\n",
      "  warnings.warn(\"Estimator fit failed. The score on this train-test\"\n",
      "C:\\Users\\jprac\\anaconda3\\lib\\site-packages\\sklearn\\model_selection\\_validation.py:610: FitFailedWarning: Estimator fit failed. The score on this train-test partition for these parameters will be set to nan. Details: \n",
      "Traceback (most recent call last):\n",
      "  File \"C:\\Users\\jprac\\anaconda3\\lib\\site-packages\\sklearn\\model_selection\\_validation.py\", line 593, in _fit_and_score\n",
      "    estimator.fit(X_train, y_train, **fit_params)\n",
      "  File \"C:\\Users\\jprac\\anaconda3\\lib\\site-packages\\sklearn\\neighbors\\_classification.py\", line 179, in fit\n",
      "    return self._fit(X, y)\n",
      "  File \"C:\\Users\\jprac\\anaconda3\\lib\\site-packages\\sklearn\\neighbors\\_base.py\", line 399, in _fit\n",
      "    self._check_algorithm_metric()\n",
      "  File \"C:\\Users\\jprac\\anaconda3\\lib\\site-packages\\sklearn\\neighbors\\_base.py\", line 342, in _check_algorithm_metric\n",
      "    raise ValueError(\"Metric '%s' not valid. Use \"\n",
      "ValueError: Metric 'euclodean' not valid. Use sorted(sklearn.neighbors.VALID_METRICS['brute']) to get valid options. Metric can also be a callable function.\n",
      "\n",
      "  warnings.warn(\"Estimator fit failed. The score on this train-test\"\n",
      "C:\\Users\\jprac\\anaconda3\\lib\\site-packages\\sklearn\\model_selection\\_validation.py:610: FitFailedWarning: Estimator fit failed. The score on this train-test partition for these parameters will be set to nan. Details: \n",
      "Traceback (most recent call last):\n",
      "  File \"C:\\Users\\jprac\\anaconda3\\lib\\site-packages\\sklearn\\model_selection\\_validation.py\", line 593, in _fit_and_score\n",
      "    estimator.fit(X_train, y_train, **fit_params)\n",
      "  File \"C:\\Users\\jprac\\anaconda3\\lib\\site-packages\\sklearn\\neighbors\\_classification.py\", line 179, in fit\n",
      "    return self._fit(X, y)\n",
      "  File \"C:\\Users\\jprac\\anaconda3\\lib\\site-packages\\sklearn\\neighbors\\_base.py\", line 399, in _fit\n",
      "    self._check_algorithm_metric()\n",
      "  File \"C:\\Users\\jprac\\anaconda3\\lib\\site-packages\\sklearn\\neighbors\\_base.py\", line 342, in _check_algorithm_metric\n",
      "    raise ValueError(\"Metric '%s' not valid. Use \"\n",
      "ValueError: Metric 'euclodean' not valid. Use sorted(sklearn.neighbors.VALID_METRICS['brute']) to get valid options. Metric can also be a callable function.\n",
      "\n",
      "  warnings.warn(\"Estimator fit failed. The score on this train-test\"\n",
      "C:\\Users\\jprac\\anaconda3\\lib\\site-packages\\sklearn\\model_selection\\_validation.py:610: FitFailedWarning: Estimator fit failed. The score on this train-test partition for these parameters will be set to nan. Details: \n",
      "Traceback (most recent call last):\n",
      "  File \"C:\\Users\\jprac\\anaconda3\\lib\\site-packages\\sklearn\\model_selection\\_validation.py\", line 593, in _fit_and_score\n",
      "    estimator.fit(X_train, y_train, **fit_params)\n",
      "  File \"C:\\Users\\jprac\\anaconda3\\lib\\site-packages\\sklearn\\neighbors\\_classification.py\", line 179, in fit\n",
      "    return self._fit(X, y)\n",
      "  File \"C:\\Users\\jprac\\anaconda3\\lib\\site-packages\\sklearn\\neighbors\\_base.py\", line 399, in _fit\n",
      "    self._check_algorithm_metric()\n",
      "  File \"C:\\Users\\jprac\\anaconda3\\lib\\site-packages\\sklearn\\neighbors\\_base.py\", line 342, in _check_algorithm_metric\n",
      "    raise ValueError(\"Metric '%s' not valid. Use \"\n",
      "ValueError: Metric 'euclodean' not valid. Use sorted(sklearn.neighbors.VALID_METRICS['brute']) to get valid options. Metric can also be a callable function.\n",
      "\n",
      "  warnings.warn(\"Estimator fit failed. The score on this train-test\"\n",
      "C:\\Users\\jprac\\anaconda3\\lib\\site-packages\\sklearn\\model_selection\\_validation.py:610: FitFailedWarning: Estimator fit failed. The score on this train-test partition for these parameters will be set to nan. Details: \n",
      "Traceback (most recent call last):\n",
      "  File \"C:\\Users\\jprac\\anaconda3\\lib\\site-packages\\sklearn\\model_selection\\_validation.py\", line 593, in _fit_and_score\n",
      "    estimator.fit(X_train, y_train, **fit_params)\n",
      "  File \"C:\\Users\\jprac\\anaconda3\\lib\\site-packages\\sklearn\\neighbors\\_classification.py\", line 179, in fit\n",
      "    return self._fit(X, y)\n",
      "  File \"C:\\Users\\jprac\\anaconda3\\lib\\site-packages\\sklearn\\neighbors\\_base.py\", line 399, in _fit\n",
      "    self._check_algorithm_metric()\n",
      "  File \"C:\\Users\\jprac\\anaconda3\\lib\\site-packages\\sklearn\\neighbors\\_base.py\", line 342, in _check_algorithm_metric\n",
      "    raise ValueError(\"Metric '%s' not valid. Use \"\n",
      "ValueError: Metric 'euclodean' not valid. Use sorted(sklearn.neighbors.VALID_METRICS['brute']) to get valid options. Metric can also be a callable function.\n",
      "\n",
      "  warnings.warn(\"Estimator fit failed. The score on this train-test\"\n",
      "C:\\Users\\jprac\\anaconda3\\lib\\site-packages\\sklearn\\model_selection\\_validation.py:610: FitFailedWarning: Estimator fit failed. The score on this train-test partition for these parameters will be set to nan. Details: \n",
      "Traceback (most recent call last):\n",
      "  File \"C:\\Users\\jprac\\anaconda3\\lib\\site-packages\\sklearn\\model_selection\\_validation.py\", line 593, in _fit_and_score\n",
      "    estimator.fit(X_train, y_train, **fit_params)\n",
      "  File \"C:\\Users\\jprac\\anaconda3\\lib\\site-packages\\sklearn\\neighbors\\_classification.py\", line 179, in fit\n",
      "    return self._fit(X, y)\n",
      "  File \"C:\\Users\\jprac\\anaconda3\\lib\\site-packages\\sklearn\\neighbors\\_base.py\", line 399, in _fit\n",
      "    self._check_algorithm_metric()\n",
      "  File \"C:\\Users\\jprac\\anaconda3\\lib\\site-packages\\sklearn\\neighbors\\_base.py\", line 342, in _check_algorithm_metric\n",
      "    raise ValueError(\"Metric '%s' not valid. Use \"\n",
      "ValueError: Metric 'euclodean' not valid. Use sorted(sklearn.neighbors.VALID_METRICS['brute']) to get valid options. Metric can also be a callable function.\n",
      "\n",
      "  warnings.warn(\"Estimator fit failed. The score on this train-test\"\n",
      "C:\\Users\\jprac\\anaconda3\\lib\\site-packages\\sklearn\\model_selection\\_validation.py:610: FitFailedWarning: Estimator fit failed. The score on this train-test partition for these parameters will be set to nan. Details: \n",
      "Traceback (most recent call last):\n",
      "  File \"C:\\Users\\jprac\\anaconda3\\lib\\site-packages\\sklearn\\model_selection\\_validation.py\", line 593, in _fit_and_score\n",
      "    estimator.fit(X_train, y_train, **fit_params)\n",
      "  File \"C:\\Users\\jprac\\anaconda3\\lib\\site-packages\\sklearn\\neighbors\\_classification.py\", line 179, in fit\n",
      "    return self._fit(X, y)\n",
      "  File \"C:\\Users\\jprac\\anaconda3\\lib\\site-packages\\sklearn\\neighbors\\_base.py\", line 399, in _fit\n",
      "    self._check_algorithm_metric()\n",
      "  File \"C:\\Users\\jprac\\anaconda3\\lib\\site-packages\\sklearn\\neighbors\\_base.py\", line 342, in _check_algorithm_metric\n",
      "    raise ValueError(\"Metric '%s' not valid. Use \"\n",
      "ValueError: Metric 'euclodean' not valid. Use sorted(sklearn.neighbors.VALID_METRICS['brute']) to get valid options. Metric can also be a callable function.\n",
      "\n",
      "  warnings.warn(\"Estimator fit failed. The score on this train-test\"\n",
      "C:\\Users\\jprac\\anaconda3\\lib\\site-packages\\sklearn\\model_selection\\_validation.py:610: FitFailedWarning: Estimator fit failed. The score on this train-test partition for these parameters will be set to nan. Details: \n",
      "Traceback (most recent call last):\n",
      "  File \"C:\\Users\\jprac\\anaconda3\\lib\\site-packages\\sklearn\\model_selection\\_validation.py\", line 593, in _fit_and_score\n",
      "    estimator.fit(X_train, y_train, **fit_params)\n",
      "  File \"C:\\Users\\jprac\\anaconda3\\lib\\site-packages\\sklearn\\neighbors\\_classification.py\", line 179, in fit\n",
      "    return self._fit(X, y)\n",
      "  File \"C:\\Users\\jprac\\anaconda3\\lib\\site-packages\\sklearn\\neighbors\\_base.py\", line 399, in _fit\n",
      "    self._check_algorithm_metric()\n",
      "  File \"C:\\Users\\jprac\\anaconda3\\lib\\site-packages\\sklearn\\neighbors\\_base.py\", line 342, in _check_algorithm_metric\n",
      "    raise ValueError(\"Metric '%s' not valid. Use \"\n",
      "ValueError: Metric 'euclodean' not valid. Use sorted(sklearn.neighbors.VALID_METRICS['brute']) to get valid options. Metric can also be a callable function.\n",
      "\n",
      "  warnings.warn(\"Estimator fit failed. The score on this train-test\"\n",
      "C:\\Users\\jprac\\anaconda3\\lib\\site-packages\\sklearn\\model_selection\\_validation.py:610: FitFailedWarning: Estimator fit failed. The score on this train-test partition for these parameters will be set to nan. Details: \n",
      "Traceback (most recent call last):\n",
      "  File \"C:\\Users\\jprac\\anaconda3\\lib\\site-packages\\sklearn\\model_selection\\_validation.py\", line 593, in _fit_and_score\n",
      "    estimator.fit(X_train, y_train, **fit_params)\n",
      "  File \"C:\\Users\\jprac\\anaconda3\\lib\\site-packages\\sklearn\\neighbors\\_classification.py\", line 179, in fit\n",
      "    return self._fit(X, y)\n",
      "  File \"C:\\Users\\jprac\\anaconda3\\lib\\site-packages\\sklearn\\neighbors\\_base.py\", line 399, in _fit\n",
      "    self._check_algorithm_metric()\n",
      "  File \"C:\\Users\\jprac\\anaconda3\\lib\\site-packages\\sklearn\\neighbors\\_base.py\", line 342, in _check_algorithm_metric\n",
      "    raise ValueError(\"Metric '%s' not valid. Use \"\n",
      "ValueError: Metric 'euclodean' not valid. Use sorted(sklearn.neighbors.VALID_METRICS['brute']) to get valid options. Metric can also be a callable function.\n",
      "\n",
      "  warnings.warn(\"Estimator fit failed. The score on this train-test\"\n",
      "C:\\Users\\jprac\\anaconda3\\lib\\site-packages\\sklearn\\model_selection\\_validation.py:610: FitFailedWarning: Estimator fit failed. The score on this train-test partition for these parameters will be set to nan. Details: \n",
      "Traceback (most recent call last):\n",
      "  File \"C:\\Users\\jprac\\anaconda3\\lib\\site-packages\\sklearn\\model_selection\\_validation.py\", line 593, in _fit_and_score\n",
      "    estimator.fit(X_train, y_train, **fit_params)\n",
      "  File \"C:\\Users\\jprac\\anaconda3\\lib\\site-packages\\sklearn\\neighbors\\_classification.py\", line 179, in fit\n",
      "    return self._fit(X, y)\n",
      "  File \"C:\\Users\\jprac\\anaconda3\\lib\\site-packages\\sklearn\\neighbors\\_base.py\", line 399, in _fit\n",
      "    self._check_algorithm_metric()\n",
      "  File \"C:\\Users\\jprac\\anaconda3\\lib\\site-packages\\sklearn\\neighbors\\_base.py\", line 342, in _check_algorithm_metric\n",
      "    raise ValueError(\"Metric '%s' not valid. Use \"\n",
      "ValueError: Metric 'euclodean' not valid. Use sorted(sklearn.neighbors.VALID_METRICS['brute']) to get valid options. Metric can also be a callable function.\n",
      "\n",
      "  warnings.warn(\"Estimator fit failed. The score on this train-test\"\n",
      "C:\\Users\\jprac\\anaconda3\\lib\\site-packages\\sklearn\\model_selection\\_validation.py:610: FitFailedWarning: Estimator fit failed. The score on this train-test partition for these parameters will be set to nan. Details: \n",
      "Traceback (most recent call last):\n",
      "  File \"C:\\Users\\jprac\\anaconda3\\lib\\site-packages\\sklearn\\model_selection\\_validation.py\", line 593, in _fit_and_score\n",
      "    estimator.fit(X_train, y_train, **fit_params)\n",
      "  File \"C:\\Users\\jprac\\anaconda3\\lib\\site-packages\\sklearn\\neighbors\\_classification.py\", line 179, in fit\n",
      "    return self._fit(X, y)\n",
      "  File \"C:\\Users\\jprac\\anaconda3\\lib\\site-packages\\sklearn\\neighbors\\_base.py\", line 399, in _fit\n",
      "    self._check_algorithm_metric()\n",
      "  File \"C:\\Users\\jprac\\anaconda3\\lib\\site-packages\\sklearn\\neighbors\\_base.py\", line 342, in _check_algorithm_metric\n",
      "    raise ValueError(\"Metric '%s' not valid. Use \"\n",
      "ValueError: Metric 'euclodean' not valid. Use sorted(sklearn.neighbors.VALID_METRICS['brute']) to get valid options. Metric can also be a callable function.\n",
      "\n",
      "  warnings.warn(\"Estimator fit failed. The score on this train-test\"\n",
      "C:\\Users\\jprac\\anaconda3\\lib\\site-packages\\sklearn\\model_selection\\_validation.py:610: FitFailedWarning: Estimator fit failed. The score on this train-test partition for these parameters will be set to nan. Details: \n",
      "Traceback (most recent call last):\n",
      "  File \"C:\\Users\\jprac\\anaconda3\\lib\\site-packages\\sklearn\\model_selection\\_validation.py\", line 593, in _fit_and_score\n",
      "    estimator.fit(X_train, y_train, **fit_params)\n",
      "  File \"C:\\Users\\jprac\\anaconda3\\lib\\site-packages\\sklearn\\neighbors\\_classification.py\", line 179, in fit\n",
      "    return self._fit(X, y)\n",
      "  File \"C:\\Users\\jprac\\anaconda3\\lib\\site-packages\\sklearn\\neighbors\\_base.py\", line 399, in _fit\n",
      "    self._check_algorithm_metric()\n",
      "  File \"C:\\Users\\jprac\\anaconda3\\lib\\site-packages\\sklearn\\neighbors\\_base.py\", line 342, in _check_algorithm_metric\n",
      "    raise ValueError(\"Metric '%s' not valid. Use \"\n",
      "ValueError: Metric 'euclodean' not valid. Use sorted(sklearn.neighbors.VALID_METRICS['brute']) to get valid options. Metric can also be a callable function.\n",
      "\n",
      "  warnings.warn(\"Estimator fit failed. The score on this train-test\"\n",
      "C:\\Users\\jprac\\anaconda3\\lib\\site-packages\\sklearn\\model_selection\\_validation.py:610: FitFailedWarning: Estimator fit failed. The score on this train-test partition for these parameters will be set to nan. Details: \n",
      "Traceback (most recent call last):\n",
      "  File \"C:\\Users\\jprac\\anaconda3\\lib\\site-packages\\sklearn\\model_selection\\_validation.py\", line 593, in _fit_and_score\n",
      "    estimator.fit(X_train, y_train, **fit_params)\n",
      "  File \"C:\\Users\\jprac\\anaconda3\\lib\\site-packages\\sklearn\\neighbors\\_classification.py\", line 179, in fit\n",
      "    return self._fit(X, y)\n",
      "  File \"C:\\Users\\jprac\\anaconda3\\lib\\site-packages\\sklearn\\neighbors\\_base.py\", line 399, in _fit\n",
      "    self._check_algorithm_metric()\n",
      "  File \"C:\\Users\\jprac\\anaconda3\\lib\\site-packages\\sklearn\\neighbors\\_base.py\", line 342, in _check_algorithm_metric\n",
      "    raise ValueError(\"Metric '%s' not valid. Use \"\n",
      "ValueError: Metric 'euclodean' not valid. Use sorted(sklearn.neighbors.VALID_METRICS['brute']) to get valid options. Metric can also be a callable function.\n",
      "\n",
      "  warnings.warn(\"Estimator fit failed. The score on this train-test\"\n",
      "C:\\Users\\jprac\\anaconda3\\lib\\site-packages\\sklearn\\model_selection\\_validation.py:610: FitFailedWarning: Estimator fit failed. The score on this train-test partition for these parameters will be set to nan. Details: \n",
      "Traceback (most recent call last):\n",
      "  File \"C:\\Users\\jprac\\anaconda3\\lib\\site-packages\\sklearn\\model_selection\\_validation.py\", line 593, in _fit_and_score\n",
      "    estimator.fit(X_train, y_train, **fit_params)\n",
      "  File \"C:\\Users\\jprac\\anaconda3\\lib\\site-packages\\sklearn\\neighbors\\_classification.py\", line 179, in fit\n",
      "    return self._fit(X, y)\n",
      "  File \"C:\\Users\\jprac\\anaconda3\\lib\\site-packages\\sklearn\\neighbors\\_base.py\", line 399, in _fit\n",
      "    self._check_algorithm_metric()\n",
      "  File \"C:\\Users\\jprac\\anaconda3\\lib\\site-packages\\sklearn\\neighbors\\_base.py\", line 342, in _check_algorithm_metric\n",
      "    raise ValueError(\"Metric '%s' not valid. Use \"\n",
      "ValueError: Metric 'euclodean' not valid. Use sorted(sklearn.neighbors.VALID_METRICS['brute']) to get valid options. Metric can also be a callable function.\n",
      "\n",
      "  warnings.warn(\"Estimator fit failed. The score on this train-test\"\n",
      "C:\\Users\\jprac\\anaconda3\\lib\\site-packages\\sklearn\\model_selection\\_validation.py:610: FitFailedWarning: Estimator fit failed. The score on this train-test partition for these parameters will be set to nan. Details: \n",
      "Traceback (most recent call last):\n",
      "  File \"C:\\Users\\jprac\\anaconda3\\lib\\site-packages\\sklearn\\model_selection\\_validation.py\", line 593, in _fit_and_score\n",
      "    estimator.fit(X_train, y_train, **fit_params)\n",
      "  File \"C:\\Users\\jprac\\anaconda3\\lib\\site-packages\\sklearn\\neighbors\\_classification.py\", line 179, in fit\n",
      "    return self._fit(X, y)\n",
      "  File \"C:\\Users\\jprac\\anaconda3\\lib\\site-packages\\sklearn\\neighbors\\_base.py\", line 399, in _fit\n",
      "    self._check_algorithm_metric()\n",
      "  File \"C:\\Users\\jprac\\anaconda3\\lib\\site-packages\\sklearn\\neighbors\\_base.py\", line 342, in _check_algorithm_metric\n",
      "    raise ValueError(\"Metric '%s' not valid. Use \"\n",
      "ValueError: Metric 'euclodean' not valid. Use sorted(sklearn.neighbors.VALID_METRICS['brute']) to get valid options. Metric can also be a callable function.\n",
      "\n",
      "  warnings.warn(\"Estimator fit failed. The score on this train-test\"\n",
      "C:\\Users\\jprac\\anaconda3\\lib\\site-packages\\sklearn\\model_selection\\_validation.py:610: FitFailedWarning: Estimator fit failed. The score on this train-test partition for these parameters will be set to nan. Details: \n",
      "Traceback (most recent call last):\n",
      "  File \"C:\\Users\\jprac\\anaconda3\\lib\\site-packages\\sklearn\\model_selection\\_validation.py\", line 593, in _fit_and_score\n",
      "    estimator.fit(X_train, y_train, **fit_params)\n",
      "  File \"C:\\Users\\jprac\\anaconda3\\lib\\site-packages\\sklearn\\neighbors\\_classification.py\", line 179, in fit\n",
      "    return self._fit(X, y)\n",
      "  File \"C:\\Users\\jprac\\anaconda3\\lib\\site-packages\\sklearn\\neighbors\\_base.py\", line 399, in _fit\n",
      "    self._check_algorithm_metric()\n",
      "  File \"C:\\Users\\jprac\\anaconda3\\lib\\site-packages\\sklearn\\neighbors\\_base.py\", line 342, in _check_algorithm_metric\n",
      "    raise ValueError(\"Metric '%s' not valid. Use \"\n",
      "ValueError: Metric 'euclodean' not valid. Use sorted(sklearn.neighbors.VALID_METRICS['brute']) to get valid options. Metric can also be a callable function.\n",
      "\n",
      "  warnings.warn(\"Estimator fit failed. The score on this train-test\"\n",
      "C:\\Users\\jprac\\anaconda3\\lib\\site-packages\\sklearn\\model_selection\\_validation.py:610: FitFailedWarning: Estimator fit failed. The score on this train-test partition for these parameters will be set to nan. Details: \n",
      "Traceback (most recent call last):\n",
      "  File \"C:\\Users\\jprac\\anaconda3\\lib\\site-packages\\sklearn\\model_selection\\_validation.py\", line 593, in _fit_and_score\n",
      "    estimator.fit(X_train, y_train, **fit_params)\n",
      "  File \"C:\\Users\\jprac\\anaconda3\\lib\\site-packages\\sklearn\\neighbors\\_classification.py\", line 179, in fit\n",
      "    return self._fit(X, y)\n",
      "  File \"C:\\Users\\jprac\\anaconda3\\lib\\site-packages\\sklearn\\neighbors\\_base.py\", line 399, in _fit\n",
      "    self._check_algorithm_metric()\n",
      "  File \"C:\\Users\\jprac\\anaconda3\\lib\\site-packages\\sklearn\\neighbors\\_base.py\", line 342, in _check_algorithm_metric\n",
      "    raise ValueError(\"Metric '%s' not valid. Use \"\n",
      "ValueError: Metric 'euclodean' not valid. Use sorted(sklearn.neighbors.VALID_METRICS['brute']) to get valid options. Metric can also be a callable function.\n",
      "\n",
      "  warnings.warn(\"Estimator fit failed. The score on this train-test\"\n",
      "C:\\Users\\jprac\\anaconda3\\lib\\site-packages\\sklearn\\model_selection\\_validation.py:610: FitFailedWarning: Estimator fit failed. The score on this train-test partition for these parameters will be set to nan. Details: \n",
      "Traceback (most recent call last):\n",
      "  File \"C:\\Users\\jprac\\anaconda3\\lib\\site-packages\\sklearn\\model_selection\\_validation.py\", line 593, in _fit_and_score\n",
      "    estimator.fit(X_train, y_train, **fit_params)\n",
      "  File \"C:\\Users\\jprac\\anaconda3\\lib\\site-packages\\sklearn\\neighbors\\_classification.py\", line 179, in fit\n",
      "    return self._fit(X, y)\n",
      "  File \"C:\\Users\\jprac\\anaconda3\\lib\\site-packages\\sklearn\\neighbors\\_base.py\", line 399, in _fit\n",
      "    self._check_algorithm_metric()\n",
      "  File \"C:\\Users\\jprac\\anaconda3\\lib\\site-packages\\sklearn\\neighbors\\_base.py\", line 342, in _check_algorithm_metric\n",
      "    raise ValueError(\"Metric '%s' not valid. Use \"\n",
      "ValueError: Metric 'euclodean' not valid. Use sorted(sklearn.neighbors.VALID_METRICS['brute']) to get valid options. Metric can also be a callable function.\n",
      "\n",
      "  warnings.warn(\"Estimator fit failed. The score on this train-test\"\n",
      "C:\\Users\\jprac\\anaconda3\\lib\\site-packages\\sklearn\\model_selection\\_validation.py:610: FitFailedWarning: Estimator fit failed. The score on this train-test partition for these parameters will be set to nan. Details: \n",
      "Traceback (most recent call last):\n",
      "  File \"C:\\Users\\jprac\\anaconda3\\lib\\site-packages\\sklearn\\model_selection\\_validation.py\", line 593, in _fit_and_score\n",
      "    estimator.fit(X_train, y_train, **fit_params)\n",
      "  File \"C:\\Users\\jprac\\anaconda3\\lib\\site-packages\\sklearn\\neighbors\\_classification.py\", line 179, in fit\n",
      "    return self._fit(X, y)\n",
      "  File \"C:\\Users\\jprac\\anaconda3\\lib\\site-packages\\sklearn\\neighbors\\_base.py\", line 399, in _fit\n",
      "    self._check_algorithm_metric()\n",
      "  File \"C:\\Users\\jprac\\anaconda3\\lib\\site-packages\\sklearn\\neighbors\\_base.py\", line 342, in _check_algorithm_metric\n",
      "    raise ValueError(\"Metric '%s' not valid. Use \"\n",
      "ValueError: Metric 'euclodean' not valid. Use sorted(sklearn.neighbors.VALID_METRICS['brute']) to get valid options. Metric can also be a callable function.\n",
      "\n",
      "  warnings.warn(\"Estimator fit failed. The score on this train-test\"\n",
      "C:\\Users\\jprac\\anaconda3\\lib\\site-packages\\sklearn\\model_selection\\_validation.py:610: FitFailedWarning: Estimator fit failed. The score on this train-test partition for these parameters will be set to nan. Details: \n",
      "Traceback (most recent call last):\n",
      "  File \"C:\\Users\\jprac\\anaconda3\\lib\\site-packages\\sklearn\\model_selection\\_validation.py\", line 593, in _fit_and_score\n",
      "    estimator.fit(X_train, y_train, **fit_params)\n",
      "  File \"C:\\Users\\jprac\\anaconda3\\lib\\site-packages\\sklearn\\neighbors\\_classification.py\", line 179, in fit\n",
      "    return self._fit(X, y)\n",
      "  File \"C:\\Users\\jprac\\anaconda3\\lib\\site-packages\\sklearn\\neighbors\\_base.py\", line 399, in _fit\n",
      "    self._check_algorithm_metric()\n",
      "  File \"C:\\Users\\jprac\\anaconda3\\lib\\site-packages\\sklearn\\neighbors\\_base.py\", line 342, in _check_algorithm_metric\n",
      "    raise ValueError(\"Metric '%s' not valid. Use \"\n",
      "ValueError: Metric 'euclodean' not valid. Use sorted(sklearn.neighbors.VALID_METRICS['brute']) to get valid options. Metric can also be a callable function.\n",
      "\n",
      "  warnings.warn(\"Estimator fit failed. The score on this train-test\"\n",
      "C:\\Users\\jprac\\anaconda3\\lib\\site-packages\\sklearn\\model_selection\\_validation.py:610: FitFailedWarning: Estimator fit failed. The score on this train-test partition for these parameters will be set to nan. Details: \n",
      "Traceback (most recent call last):\n",
      "  File \"C:\\Users\\jprac\\anaconda3\\lib\\site-packages\\sklearn\\model_selection\\_validation.py\", line 593, in _fit_and_score\n",
      "    estimator.fit(X_train, y_train, **fit_params)\n",
      "  File \"C:\\Users\\jprac\\anaconda3\\lib\\site-packages\\sklearn\\neighbors\\_classification.py\", line 179, in fit\n",
      "    return self._fit(X, y)\n",
      "  File \"C:\\Users\\jprac\\anaconda3\\lib\\site-packages\\sklearn\\neighbors\\_base.py\", line 399, in _fit\n",
      "    self._check_algorithm_metric()\n",
      "  File \"C:\\Users\\jprac\\anaconda3\\lib\\site-packages\\sklearn\\neighbors\\_base.py\", line 342, in _check_algorithm_metric\n",
      "    raise ValueError(\"Metric '%s' not valid. Use \"\n",
      "ValueError: Metric 'euclodean' not valid. Use sorted(sklearn.neighbors.VALID_METRICS['brute']) to get valid options. Metric can also be a callable function.\n",
      "\n",
      "  warnings.warn(\"Estimator fit failed. The score on this train-test\"\n",
      "C:\\Users\\jprac\\anaconda3\\lib\\site-packages\\sklearn\\model_selection\\_validation.py:610: FitFailedWarning: Estimator fit failed. The score on this train-test partition for these parameters will be set to nan. Details: \n",
      "Traceback (most recent call last):\n",
      "  File \"C:\\Users\\jprac\\anaconda3\\lib\\site-packages\\sklearn\\model_selection\\_validation.py\", line 593, in _fit_and_score\n",
      "    estimator.fit(X_train, y_train, **fit_params)\n",
      "  File \"C:\\Users\\jprac\\anaconda3\\lib\\site-packages\\sklearn\\neighbors\\_classification.py\", line 179, in fit\n",
      "    return self._fit(X, y)\n",
      "  File \"C:\\Users\\jprac\\anaconda3\\lib\\site-packages\\sklearn\\neighbors\\_base.py\", line 399, in _fit\n",
      "    self._check_algorithm_metric()\n",
      "  File \"C:\\Users\\jprac\\anaconda3\\lib\\site-packages\\sklearn\\neighbors\\_base.py\", line 342, in _check_algorithm_metric\n",
      "    raise ValueError(\"Metric '%s' not valid. Use \"\n",
      "ValueError: Metric 'euclodean' not valid. Use sorted(sklearn.neighbors.VALID_METRICS['brute']) to get valid options. Metric can also be a callable function.\n",
      "\n",
      "  warnings.warn(\"Estimator fit failed. The score on this train-test\"\n",
      "C:\\Users\\jprac\\anaconda3\\lib\\site-packages\\sklearn\\model_selection\\_validation.py:610: FitFailedWarning: Estimator fit failed. The score on this train-test partition for these parameters will be set to nan. Details: \n",
      "Traceback (most recent call last):\n",
      "  File \"C:\\Users\\jprac\\anaconda3\\lib\\site-packages\\sklearn\\model_selection\\_validation.py\", line 593, in _fit_and_score\n",
      "    estimator.fit(X_train, y_train, **fit_params)\n",
      "  File \"C:\\Users\\jprac\\anaconda3\\lib\\site-packages\\sklearn\\neighbors\\_classification.py\", line 179, in fit\n",
      "    return self._fit(X, y)\n",
      "  File \"C:\\Users\\jprac\\anaconda3\\lib\\site-packages\\sklearn\\neighbors\\_base.py\", line 399, in _fit\n",
      "    self._check_algorithm_metric()\n",
      "  File \"C:\\Users\\jprac\\anaconda3\\lib\\site-packages\\sklearn\\neighbors\\_base.py\", line 342, in _check_algorithm_metric\n",
      "    raise ValueError(\"Metric '%s' not valid. Use \"\n",
      "ValueError: Metric 'euclodean' not valid. Use sorted(sklearn.neighbors.VALID_METRICS['brute']) to get valid options. Metric can also be a callable function.\n",
      "\n",
      "  warnings.warn(\"Estimator fit failed. The score on this train-test\"\n",
      "C:\\Users\\jprac\\anaconda3\\lib\\site-packages\\sklearn\\model_selection\\_validation.py:610: FitFailedWarning: Estimator fit failed. The score on this train-test partition for these parameters will be set to nan. Details: \n",
      "Traceback (most recent call last):\n",
      "  File \"C:\\Users\\jprac\\anaconda3\\lib\\site-packages\\sklearn\\model_selection\\_validation.py\", line 593, in _fit_and_score\n",
      "    estimator.fit(X_train, y_train, **fit_params)\n",
      "  File \"C:\\Users\\jprac\\anaconda3\\lib\\site-packages\\sklearn\\neighbors\\_classification.py\", line 179, in fit\n",
      "    return self._fit(X, y)\n",
      "  File \"C:\\Users\\jprac\\anaconda3\\lib\\site-packages\\sklearn\\neighbors\\_base.py\", line 399, in _fit\n",
      "    self._check_algorithm_metric()\n",
      "  File \"C:\\Users\\jprac\\anaconda3\\lib\\site-packages\\sklearn\\neighbors\\_base.py\", line 342, in _check_algorithm_metric\n",
      "    raise ValueError(\"Metric '%s' not valid. Use \"\n",
      "ValueError: Metric 'euclodean' not valid. Use sorted(sklearn.neighbors.VALID_METRICS['brute']) to get valid options. Metric can also be a callable function.\n",
      "\n",
      "  warnings.warn(\"Estimator fit failed. The score on this train-test\"\n",
      "C:\\Users\\jprac\\anaconda3\\lib\\site-packages\\sklearn\\model_selection\\_validation.py:610: FitFailedWarning: Estimator fit failed. The score on this train-test partition for these parameters will be set to nan. Details: \n",
      "Traceback (most recent call last):\n",
      "  File \"C:\\Users\\jprac\\anaconda3\\lib\\site-packages\\sklearn\\model_selection\\_validation.py\", line 593, in _fit_and_score\n",
      "    estimator.fit(X_train, y_train, **fit_params)\n",
      "  File \"C:\\Users\\jprac\\anaconda3\\lib\\site-packages\\sklearn\\neighbors\\_classification.py\", line 179, in fit\n",
      "    return self._fit(X, y)\n",
      "  File \"C:\\Users\\jprac\\anaconda3\\lib\\site-packages\\sklearn\\neighbors\\_base.py\", line 399, in _fit\n",
      "    self._check_algorithm_metric()\n",
      "  File \"C:\\Users\\jprac\\anaconda3\\lib\\site-packages\\sklearn\\neighbors\\_base.py\", line 342, in _check_algorithm_metric\n",
      "    raise ValueError(\"Metric '%s' not valid. Use \"\n",
      "ValueError: Metric 'euclodean' not valid. Use sorted(sklearn.neighbors.VALID_METRICS['brute']) to get valid options. Metric can also be a callable function.\n",
      "\n",
      "  warnings.warn(\"Estimator fit failed. The score on this train-test\"\n",
      "C:\\Users\\jprac\\anaconda3\\lib\\site-packages\\sklearn\\model_selection\\_validation.py:610: FitFailedWarning: Estimator fit failed. The score on this train-test partition for these parameters will be set to nan. Details: \n",
      "Traceback (most recent call last):\n",
      "  File \"C:\\Users\\jprac\\anaconda3\\lib\\site-packages\\sklearn\\model_selection\\_validation.py\", line 593, in _fit_and_score\n",
      "    estimator.fit(X_train, y_train, **fit_params)\n",
      "  File \"C:\\Users\\jprac\\anaconda3\\lib\\site-packages\\sklearn\\neighbors\\_classification.py\", line 179, in fit\n",
      "    return self._fit(X, y)\n",
      "  File \"C:\\Users\\jprac\\anaconda3\\lib\\site-packages\\sklearn\\neighbors\\_base.py\", line 399, in _fit\n",
      "    self._check_algorithm_metric()\n",
      "  File \"C:\\Users\\jprac\\anaconda3\\lib\\site-packages\\sklearn\\neighbors\\_base.py\", line 342, in _check_algorithm_metric\n",
      "    raise ValueError(\"Metric '%s' not valid. Use \"\n",
      "ValueError: Metric 'euclodean' not valid. Use sorted(sklearn.neighbors.VALID_METRICS['brute']) to get valid options. Metric can also be a callable function.\n",
      "\n",
      "  warnings.warn(\"Estimator fit failed. The score on this train-test\"\n",
      "C:\\Users\\jprac\\anaconda3\\lib\\site-packages\\sklearn\\model_selection\\_validation.py:610: FitFailedWarning: Estimator fit failed. The score on this train-test partition for these parameters will be set to nan. Details: \n",
      "Traceback (most recent call last):\n",
      "  File \"C:\\Users\\jprac\\anaconda3\\lib\\site-packages\\sklearn\\model_selection\\_validation.py\", line 593, in _fit_and_score\n",
      "    estimator.fit(X_train, y_train, **fit_params)\n",
      "  File \"C:\\Users\\jprac\\anaconda3\\lib\\site-packages\\sklearn\\neighbors\\_classification.py\", line 179, in fit\n",
      "    return self._fit(X, y)\n",
      "  File \"C:\\Users\\jprac\\anaconda3\\lib\\site-packages\\sklearn\\neighbors\\_base.py\", line 399, in _fit\n",
      "    self._check_algorithm_metric()\n",
      "  File \"C:\\Users\\jprac\\anaconda3\\lib\\site-packages\\sklearn\\neighbors\\_base.py\", line 342, in _check_algorithm_metric\n",
      "    raise ValueError(\"Metric '%s' not valid. Use \"\n",
      "ValueError: Metric 'euclodean' not valid. Use sorted(sklearn.neighbors.VALID_METRICS['brute']) to get valid options. Metric can also be a callable function.\n",
      "\n",
      "  warnings.warn(\"Estimator fit failed. The score on this train-test\"\n",
      "C:\\Users\\jprac\\anaconda3\\lib\\site-packages\\sklearn\\model_selection\\_validation.py:610: FitFailedWarning: Estimator fit failed. The score on this train-test partition for these parameters will be set to nan. Details: \n",
      "Traceback (most recent call last):\n",
      "  File \"C:\\Users\\jprac\\anaconda3\\lib\\site-packages\\sklearn\\model_selection\\_validation.py\", line 593, in _fit_and_score\n",
      "    estimator.fit(X_train, y_train, **fit_params)\n",
      "  File \"C:\\Users\\jprac\\anaconda3\\lib\\site-packages\\sklearn\\neighbors\\_classification.py\", line 179, in fit\n",
      "    return self._fit(X, y)\n",
      "  File \"C:\\Users\\jprac\\anaconda3\\lib\\site-packages\\sklearn\\neighbors\\_base.py\", line 399, in _fit\n",
      "    self._check_algorithm_metric()\n",
      "  File \"C:\\Users\\jprac\\anaconda3\\lib\\site-packages\\sklearn\\neighbors\\_base.py\", line 342, in _check_algorithm_metric\n",
      "    raise ValueError(\"Metric '%s' not valid. Use \"\n",
      "ValueError: Metric 'euclodean' not valid. Use sorted(sklearn.neighbors.VALID_METRICS['brute']) to get valid options. Metric can also be a callable function.\n",
      "\n",
      "  warnings.warn(\"Estimator fit failed. The score on this train-test\"\n"
     ]
    },
    {
     "name": "stdout",
     "output_type": "stream",
     "text": [
      "training_time(sec) for grid search  39.60739779472351\n",
      "best accuracy:{} 0.9415333333333334\n",
      "best estimator:{} KNeighborsClassifier(metric='manhattan', weights='distance')\n",
      "best params:{} {'metric': 'manhattan', 'n_neighbors': 5, 'weights': 'distance'}\n"
     ]
    },
    {
     "name": "stderr",
     "output_type": "stream",
     "text": [
      "C:\\Users\\jprac\\anaconda3\\lib\\site-packages\\sklearn\\model_selection\\_search.py:918: UserWarning: One or more of the test scores are non-finite: [       nan        nan        nan        nan        nan        nan\n",
      "        nan        nan        nan        nan 0.91433333 0.93753333\n",
      " 0.92966667 0.9402     0.93026667 0.94153333 0.92926667 0.94133333\n",
      " 0.92273333 0.93773333]\n",
      "  warnings.warn(\n"
     ]
    }
   ],
   "source": [
    "# try different parameters, takes aroud .. sec\n",
    "grid_params = {\n",
    "    'n_neighbors': [2,3,5,7,9],\n",
    "    'weights': ['uniform', 'distance'],\n",
    "    'metric':['euclodean','manhattan']\n",
    "}\n",
    "# 5*2*2*3 = 60 times running the knn\n",
    "gs = GridSearchCV(\n",
    "    KNeighborsClassifier(),\n",
    "    grid_params,\n",
    "    # verbose = 1,\n",
    "    cv = 3,\n",
    ")\n",
    "# fit the model\n",
    "knn_gs_start = time.time()\n",
    "gs_results = gs.fit(X_train, y_train)\n",
    "knn_gs_end = time.time()\n",
    "print('training_time(sec) for grid search ', knn_gs_end - knn_gs_start)\n",
    "\n",
    "# print get best parameters and score for given model from the grid search\n",
    "print('best accuracy:{}', gs_results.best_score_)\n",
    "print('best estimator:{}', gs_results.best_estimator_)\n",
    "print('best params:{}', gs_results.best_params_)\n",
    "\n"
   ]
  },
  {
   "cell_type": "markdown",
   "id": "b9f7f53b",
   "metadata": {},
   "source": [
    "# Random Forest classifier\n",
    "\n",
    "* A RF is a meta estimator that fits a number of deicison tree classifiers on various sub-sample of dataset and uses averaging to improve the accuracy and control over-fitting."
   ]
  },
  {
   "cell_type": "code",
   "execution_count": 28,
   "id": "a8fed1c4",
   "metadata": {},
   "outputs": [
    {
     "name": "stdout",
     "output_type": "stream",
     "text": [
      "training_time in seconds 3.222623348236084\n",
      "RF Accuracy: 0.9608\n"
     ]
    }
   ],
   "source": [
    "from sklearn.ensemble import RandomForestClassifier\n",
    "# fit the estimator\n",
    "RF_clf=RandomForestClassifier(n_estimators=100)\n",
    "# training time\n",
    "rf_start = time.time()\n",
    "# fit the model\n",
    "RF_clf.fit(X_train,y_train)\n",
    "rf_end = time.time()\n",
    "print('training_time in seconds', rf_end-rf_start)\n",
    "# predict using trained model\n",
    "rf_y_test_pred = RF_clf.predict(X_test)\n",
    "rf_y_probas = RF_clf.predict_proba(X_test)\n",
    "print(\"RF Accuracy:\",accuracy_score(y_test, rf_y_test_pred))\n"
   ]
  },
  {
   "cell_type": "code",
   "execution_count": 29,
   "id": "2bc68980",
   "metadata": {},
   "outputs": [],
   "source": [
    "\n",
    "acc_dict['RandomForest'] = accuracy_score(y_test,rf_y_test_pred)\n",
    "training_time['RandomForest'] = rf_end - rf_start"
   ]
  },
  {
   "cell_type": "code",
   "execution_count": null,
   "id": "96489ce6",
   "metadata": {},
   "outputs": [],
   "source": [
    "# wandb.init(project=\"visualize-sklearn_RF\")\n",
    "# wandb.sklearn.plot_classifier(RF_clf, \n",
    "#                               X_train, X_test, \n",
    "#                               y_train.to_numpy(), y_test, \n",
    "#                               rf_y_test_pred, rf_y_probas,\n",
    "#                               labels=np.arange(27),\n",
    "#                               model_name = 'RF',\n",
    "#                               feature_names=None)"
   ]
  },
  {
   "cell_type": "markdown",
   "id": "183183c1",
   "metadata": {},
   "source": [
    "# Global visualization"
   ]
  },
  {
   "cell_type": "code",
   "execution_count": 30,
   "id": "29544c58",
   "metadata": {},
   "outputs": [
    {
     "data": {
      "image/png": "[encoded data removed]",
      "text/plain": [
       "<Figure size 432x288 with 1 Axes>"
      ]
     },
     "metadata": {
      "needs_background": "light"
     },
     "output_type": "display_data"
    }
   ],
   "source": [
    "# best accuracies for each classifier\n",
    "acc_dict\n",
    "plt.bar(range(len(acc_dict)),acc_dict.values(),align='center')\n",
    "plt.xticks(range(len(acc_dict)),list(acc_dict.keys()))\n",
    "plt.xlabel('models')\n",
    "plt.ylabel('accuracy')\n",
    "plt.title('accuracy for each model')\n",
    "plt.show() \n",
    "# plt.savefig('accuracy_for_classifiers')"
   ]
  },
  {
   "cell_type": "code",
   "execution_count": 31,
   "id": "95ca20bf",
   "metadata": {},
   "outputs": [
    {
     "data": {
      "image/png": "[encoded data removed]",
      "text/plain": [
       "<Figure size 432x288 with 1 Axes>"
      ]
     },
     "metadata": {
      "needs_background": "light"
     },
     "output_type": "display_data"
    }
   ],
   "source": [
    "plt.bar(range(len(training_time)),training_time.values(),align='center')\n",
    "plt.xticks(range(len(training_time)),list(training_time.keys()))\n",
    "plt.xlabel('models')\n",
    "plt.ylabel('training time')\n",
    "plt.title('required training time for each model')\n",
    "plt.show()\n",
    "# plt.savefig('training_time_for_classifiers',bbox_inches='tight')"
   ]
  }
 ],
 "metadata": {
  "kernelspec": {
   "display_name": "Python 3 (ipykernel)",
   "language": "python",
   "name": "python3"
  },
  "language_info": {
   "codemirror_mode": {
    "name": "ipython",
    "version": 3
   },
   "file_extension": ".py",
   "mimetype": "text/x-python",
   "name": "python",
   "nbconvert_exporter": "python",
   "pygments_lexer": "ipython3",
   "version": "3.8.8"
  },
  "toc": {
   "base_numbering": 1,
   "nav_menu": {},
   "number_sections": true,
   "sideBar": true,
   "skip_h1_title": false,
   "title_cell": "Table of Contents",
   "title_sidebar": "Contents",
   "toc_cell": false,
   "toc_position": {},
   "toc_section_display": true,
   "toc_window_display": false
  },
  "varInspector": {
   "cols": {
    "lenName": 16,
    "lenType": 16,
    "lenVar": 40
   },
   "kernels_config": {
    "python": {
     "delete_cmd_postfix": "",
     "delete_cmd_prefix": "del ",
     "library": "var_list.py",
     "varRefreshCmd": "print(var_dic_list())"
    },
    "r": {
     "delete_cmd_postfix": ") ",
     "delete_cmd_prefix": "rm(",
     "library": "var_list.r",
     "varRefreshCmd": "cat(var_dic_list()) "
    }
   },
   "types_to_exclude": [
    "module",
    "function",
    "builtin_function_or_method",
    "instance",
    "_Feature"
   ],
   "window_display": false
  }
 },
 "nbformat": 4,
 "nbformat_minor": 5
}
